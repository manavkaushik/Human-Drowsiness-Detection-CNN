{
 "cells": [
  {
   "cell_type": "markdown",
   "metadata": {},
   "source": [
    "# 1. Import Libraries"
   ]
  },
  {
   "cell_type": "code",
   "execution_count": 5,
   "metadata": {},
   "outputs": [],
   "source": [
    "## Importing all the required libraries\n",
    "\n",
    "import cv2     # for capturing videos\n",
    "import os\n",
    "import math   # for mathematical operations\n",
    "import matplotlib.pyplot as plt    # for plotting the images\n",
    "%matplotlib inline\n",
    "import pandas as pd\n",
    "from keras.preprocessing import image   # for preprocessing the images\n",
    "import numpy as np    # for mathematical operations\n",
    "from keras.utils import np_utils\n",
    "from skimage.transform import resize   # for resizing images\n",
    "from sklearn.model_selection import train_test_split\n",
    "from glob import glob\n",
    "from tqdm import tqdm\n",
    "\n",
    "import keras\n",
    "from keras.models import Sequential\n",
    "from keras.applications.vgg16 import VGG16\n",
    "from keras.layers import Dense, InputLayer, Dropout, Flatten\n",
    "from keras.layers import Conv2D, MaxPooling2D, GlobalMaxPooling2D\n",
    "from keras.preprocessing import image\n",
    "from keras.models import Sequential\n",
    "from keras.layers import Conv2D, MaxPooling2D\n",
    "from keras.layers import Activation, Dropout, Flatten, Dense\n",
    "from keras.regularizers import l2\n",
    "from keras.preprocessing.image import ImageDataGenerator, array_to_img, img_to_array, load_img\n",
    "import numpy as np\n",
    "import pandas as pd\n",
    "import matplotlib.pyplot as plt\n",
    "from tqdm import tqdm\n",
    "from sklearn.model_selection import train_test_split\n",
    "\n",
    "from tensorflow.keras.preprocessing.image import ImageDataGenerator\n",
    "from tensorflow.keras.applications import VGG16\n",
    "from tensorflow.keras.layers import Dropout\n",
    "from tensorflow.keras.layers import Flatten\n",
    "from tensorflow.keras.layers import Dense\n",
    "from tensorflow.keras.layers import Input\n",
    "from tensorflow.keras.models import Model\n",
    "from tensorflow.keras.optimizers import SGD\n",
    "from sklearn.metrics import classification_report\n"
   ]
  },
  {
   "cell_type": "markdown",
   "metadata": {},
   "source": [
    "# 2.a. Video-to-Image Data Preparation (Train)"
   ]
  },
  {
   "cell_type": "code",
   "execution_count": null,
   "metadata": {},
   "outputs": [],
   "source": [
    "######################  Declaring Directory to store data  ########################################\n",
    "\n",
    "## Change your current working directory to your desired working directory where you \n",
    "## would want to store all the frames of video samples.\n",
    "## Ensure that the directory has atleast 30 GB of empty disk space\n",
    "\n",
    "os.chdir('desired_directory_for_video_frames')\n",
    "\n",
    "###################################################################################################\n",
    "\n",
    "\n",
    "######################  Tracersing the Train Video Data directory  ################################\n",
    "\n",
    "directory = r'root_directory_where_train_video_data_is_stored'\n",
    "for sub_dir_1 in os.listdir(directory):\n",
    "\n",
    "    for sub_dir_2 in os.listdir(os.path.join(directory, sub_dir_1)):\n",
    "        \n",
    "        if str(sub_dir_2) in ['glasses', 'night_noglasses', 'nightglasses', 'noglasses', 'sunglasses']:\n",
    "#             print(sub_dir_1, sub_dir_2)\n",
    "\n",
    "            for files in os.listdir(os.path.join(os.path.join(directory, sub_dir_1), sub_dir_2)):\n",
    "        \n",
    "                if str(files) in  ['nonsleepyCombination.avi', 'sleepyCombination.avi', 'slowBlinkWithNodding.avi', 'yawning.avi']:\n",
    "                    \n",
    "                    ############ Opening text files to label each frame #################\n",
    "                    txt_file = str(directory) + '\\\\' + str(sub_dir_1) + '\\\\' + str(sub_dir_2) + '\\\\' + str(sub_dir_1) + '_' + str(files[:-4]) + '_drowsiness.txt'\n",
    "                    file = open(txt_file, 'r') \n",
    "                    n = 0\n",
    "                    temp = []\n",
    "                    while True: \n",
    "\n",
    "                        # read by character \n",
    "                        char = file.read(1)           \n",
    "                        if not char:  \n",
    "                            break\n",
    "                        n = n+1\n",
    "                        #print(char)\n",
    "                        temp.append(char)\n",
    "\n",
    "                    file.close()\n",
    "    \n",
    "###################################################################################################\n",
    "\n",
    "######################  Preparing frames from the videos  #########################################\n",
    "\n",
    "                    # Read the video from specified path \n",
    "                    cam = cv2.VideoCapture(str(directory) + '\\\\' + str(sub_dir_1) + '\\\\' + str(sub_dir_2) + '\\\\' + files) \n",
    "                        \n",
    "#                     try: \n",
    "\n",
    "#                         # creating a folder named data \n",
    "#                         if not os.path.exists('data'): \n",
    "#                             os.makedirs('data') \n",
    "\n",
    "#                     # if not created then raise error \n",
    "#                     except OSError: \n",
    "#                         print ('Error: Creating directory of data') \n",
    "\n",
    "                    # frame \n",
    "                    currentframe = 0\n",
    "\n",
    "                    while(True): \n",
    "\n",
    "                        # reading from frame \n",
    "                        ret,frame = cam.read() \n",
    "                        if ret: \n",
    "                            # if video is still left continue creating images \n",
    "                            if temp[currentframe] == '1':\n",
    "                                # creating a folder named data \n",
    "                                if not os.path.exists('train_data/drowsy'): \n",
    "                                    os.makedirs('train_data/drowsy')\n",
    "                                name = './train_data/drowsy/' + str(sub_dir_1) + '_' + str(sub_dir_2) + '_' + str(files[:-4]) + '_' +str(currentframe) + '_' + 'drowsy' + '.jpg'\n",
    "                            \n",
    "                            if temp[currentframe] == '0':\n",
    "                                # creating a folder named data \n",
    "                                if not os.path.exists('train_data/notdrowsy'): \n",
    "                                    os.makedirs('train_data/notdrowsy')\n",
    "                                name = './train_data/notdrowsy/' + str(sub_dir_1) + '_' + str(sub_dir_2) + '_' + str(files[:-4]) + '_' +str(currentframe) + '_' + 'notdrowsy' + '.jpg'\n",
    "                                \n",
    "                            print ('Creating...' + name) \n",
    "                            cv2.imwrite(name, frame) \n",
    "\n",
    "                            # increasing counter so that it will \n",
    "                            # show how many frames are created \n",
    "                            currentframe += 1\n",
    "                        else: \n",
    "                            break\n",
    "\n",
    "                    # Release all space and windows once done \n",
    "                    cam.release() \n",
    "                    cv2.destroyAllWindows() \n",
    "                    \n",
    "###################################################################################################"
   ]
  },
  {
   "cell_type": "markdown",
   "metadata": {},
   "source": [
    "# 2.b. Video-to-Image Data Preparation (Test)"
   ]
  },
  {
   "cell_type": "code",
   "execution_count": null,
   "metadata": {},
   "outputs": [],
   "source": [
    "######################  Tracersing the Test Video Data directory  ######################################\n",
    "\n",
    "directory = r'root_directory_where_test_video_data_is_stored'\n",
    "for sub_dir_1 in os.listdir(directory):\n",
    "\n",
    "    for files in os.listdir(os.path.join(directory, sub_dir_1)):\n",
    "        \n",
    "        if str(files) in  [sub_dir_1+'_'+'glasses_mix.mp4', sub_dir_1+'_'+'nightglasses_mix.mp4', \n",
    "                           sub_dir_1+'_'+'nightnoglasses_mix.mp4', sub_dir_1+'_'+'noglasses_mix.mp4', sub_dir_1+'_'+'sunglasses_mix.mp4']:\n",
    "            \n",
    "            \n",
    "            ############ Opening text files to label each frame #################\n",
    "            \n",
    "            txt_file = str(directory) + '\\\\' + str(sub_dir_1) + '\\\\' + str(files[:-4]) + 'ing_drowsiness.txt'\n",
    "            file = open(txt_file, 'r') \n",
    "            n = 0\n",
    "            temp = []\n",
    "            while True: \n",
    "\n",
    "                # read by character \n",
    "                char = file.read(1)           \n",
    "                if not char:  \n",
    "                    break\n",
    "                n = n+1\n",
    "                #print(char)\n",
    "                temp.append(char)\n",
    "#                     print(str(sub_dir_1) + sub_dir_2 + '_' + str(files[:-4]) + '_drowsiness.txt')\n",
    "#                     print(n)\n",
    "#                     print()\n",
    "\n",
    "            file.close()\n",
    "\n",
    "###################################################################################################\n",
    "\n",
    "######################  Preparing frames from the videos  #########################################\n",
    "\n",
    "            # Read the video from specified path \n",
    "            cam = cv2.VideoCapture(str(directory) + '\\\\' + str(sub_dir_1) + '\\\\' + files) \n",
    "\n",
    "#                     try: \n",
    "\n",
    "#                         # creating a folder named data \n",
    "#                         if not os.path.exists('data'): \n",
    "#                             os.makedirs('data') \n",
    "\n",
    "#                     # if not created then raise error \n",
    "#                     except OSError: \n",
    "#                         print ('Error: Creating directory of data') \n",
    "\n",
    "            # frame \n",
    "            currentframe = 0\n",
    "\n",
    "            while(True): \n",
    "\n",
    "                # reading from frame \n",
    "                ret,frame = cam.read() \n",
    "                if ret: \n",
    "                    # if video is still left continue creating images \n",
    "                    if temp[currentframe] == '1':\n",
    "                        # creating a folder named data \n",
    "                        if not os.path.exists('val_data/drowsy'): \n",
    "                            os.makedirs('val_data/drowsy')\n",
    "                        name = './val_data/drowsy/' + str(sub_dir_1) + '_' + str(files[:-4]) + '_' +str(currentframe) + '_' + 'drowsy' + '.jpg'\n",
    "\n",
    "                    if temp[currentframe] == '0':\n",
    "                        # creating a folder named data \n",
    "                        if not os.path.exists('val_data/notdrowsy'): \n",
    "                            os.makedirs('val_data/notdrowsy')\n",
    "                        name = './val_data/notdrowsy/' + str(sub_dir_1) + '_' + str(files[:-4]) + '_' +str(currentframe) + '_' + 'notdrowsy' + '.jpg'\n",
    "\n",
    "                    print ('Creating...' + name) \n",
    "                    cv2.imwrite(name, frame) \n",
    "\n",
    "                    # increasing counter so that it will \n",
    "                    # show how many frames are created \n",
    "                    currentframe += 1\n",
    "                else: \n",
    "                    break\n",
    "\n",
    "            # Release all space and windows once done \n",
    "            cam.release() \n",
    "            cv2.destroyAllWindows() \n",
    "            \n",
    "###################################################################################################"
   ]
  },
  {
   "cell_type": "markdown",
   "metadata": {},
   "source": [
    "# 3. Image Augmentation"
   ]
  },
  {
   "cell_type": "code",
   "execution_count": 2,
   "metadata": {},
   "outputs": [],
   "source": [
    "\n",
    "datagen = ImageDataGenerator(\n",
    "    \n",
    "        rotation_range=40,\n",
    "        width_shift_range=0.2,\n",
    "        height_shift_range=0.2,\n",
    "    \n",
    "        rescale=1./255,\n",
    "        shear_range=0.2,\n",
    "        zoom_range=0.2,\n",
    "    \n",
    "        horizontal_flip=True,\n",
    "        fill_mode='nearest'\n",
    "    \n",
    "        )"
   ]
  },
  {
   "cell_type": "code",
   "execution_count": 3,
   "metadata": {},
   "outputs": [],
   "source": [
    "# img = load_img('train_data/drowsy/001_glasses_sleepyCombination_974_drowsy.jpg')  # this is a PIL image\n",
    "# x = img_to_array(img)  # this is a Numpy array with shape (3, 150, 150)\n",
    "# x = x.reshape((1,) + x.shape)  # this is a Numpy array with shape (1, 3, 150, 150)\n",
    "\n",
    "# # the .flow() command below generates batches of randomly transformed images\n",
    "# # and saves the results to the `preview/` directory\n",
    "# i = 0\n",
    "# for batch in datagen.flow(x, batch_size=1,\n",
    "#                           save_to_dir='rand', save_prefix='drowsy', save_format='jpeg'):\n",
    "#     i += 1\n",
    "#     if i > 20:\n",
    "#         break  # otherwise the generator would loop indefinitely"
   ]
  },
  {
   "cell_type": "markdown",
   "metadata": {},
   "source": [
    "# 4. Baseline Model Preparation"
   ]
  },
  {
   "cell_type": "code",
   "execution_count": 33,
   "metadata": {},
   "outputs": [],
   "source": [
    "model_1 = Sequential()\n",
    "model_1.add(Conv2D(32, (3, 3), input_shape=(3, 224, 224), kernel_regularizer=l2(0.01)))\n",
    "model_1.add(Activation('relu'))\n",
    "model_1.add(MaxPooling2D(pool_size=(2, 2), padding='same'))\n",
    "\n",
    "model_1.add(Conv2D(32, (3, 3), padding='same', kernel_regularizer=l2(0.01)))\n",
    "model_1.add(Activation('relu'))\n",
    "model_1.add(MaxPooling2D(pool_size=(2, 2), padding='same'))\n",
    "\n",
    "model_1.add(Conv2D(64, (3, 3), padding='same', kernel_regularizer=l2(0.01)))\n",
    "model_1.add(Activation('relu'))\n",
    "model_1.add(MaxPooling2D(pool_size=(2, 2), padding='same'))\n",
    "\n",
    "# # the model so far outputs 3D feature maps (height, width, features)"
   ]
  },
  {
   "cell_type": "code",
   "execution_count": null,
   "metadata": {},
   "outputs": [],
   "source": [
    "model_1.add(Flatten())  # this converts our 3D feature maps to 1D feature vectors\n",
    "model_1.add(Dense(64, kernel_regularizer=l2(0.01)))\n",
    "model_1.add(Activation('relu'))\n",
    "model_1.add(Dropout(0.5))\n",
    "model_1.add(Dense(1, kernel_regularizer=l2(0.01)))\n",
    "model_1.add(Activation('sigmoid'))\n",
    "\n",
    "model_1.compile(loss='binary_crossentropy',\n",
    "              optimizer='rmsprop',\n",
    "              metrics=['accuracy'])"
   ]
  },
  {
   "cell_type": "code",
   "execution_count": 23,
   "metadata": {},
   "outputs": [
    {
     "data": {
      "text/plain": [
       "<bound method Network.summary of <keras.engine.sequential.Sequential object at 0x00000206BC035080>>"
      ]
     },
     "execution_count": 23,
     "metadata": {},
     "output_type": "execute_result"
    }
   ],
   "source": [
    "model_1.summary()"
   ]
  },
  {
   "cell_type": "code",
   "execution_count": null,
   "metadata": {},
   "outputs": [],
   "source": [
    "from keras.utils.vis_utils import plot_model\n",
    "plot_model(model_1, to_file='model_plot.png', show_shapes=True, show_layer_names=True)"
   ]
  },
  {
   "cell_type": "markdown",
   "metadata": {},
   "source": [
    "## 4.a. Training Baseline Model"
   ]
  },
  {
   "cell_type": "code",
   "execution_count": null,
   "metadata": {},
   "outputs": [],
   "source": [
    "## Augmenting Test and Train Images ##\n",
    "## with a flow generator ##\n",
    "\n",
    "batch_size = 16\n",
    "\n",
    "# this is the augmentation configuration we will use for training\n",
    "train_datagen = ImageDataGenerator(\n",
    "        rescale=1./255,\n",
    "        shear_range=0.2,\n",
    "        zoom_range=0.2,\n",
    "        horizontal_flip=True)\n",
    "\n",
    "# this is the augmentation configuration we will use for testing:\n",
    "# only rescaling\n",
    "test_datagen = ImageDataGenerator(rescale=1./255)\n",
    "\n",
    "# this is a generator that will read pictures found in\n",
    "# subfolers of 'data/train', and indefinitely generate\n",
    "# batches of augmented image data\n",
    "train_generator = train_datagen.flow_from_directory(\n",
    "        'train_data',  # this is the target directory\n",
    "        target_size=(224, 224),  # all images will be resized to 224 x 224\n",
    "        batch_size=batch_size,\n",
    "        class_mode='binary')  # since we use binary_crossentropy loss, we need binary labels\n",
    "\n",
    "# this is a similar generator, for validation data\n",
    "validation_generator = test_datagen.flow_from_directory(\n",
    "        'val_data',\n",
    "        target_size=(224, 224),\n",
    "        batch_size=batch_size,\n",
    "        class_mode='binary')"
   ]
  },
  {
   "cell_type": "code",
   "execution_count": null,
   "metadata": {},
   "outputs": [],
   "source": [
    "# callback = keras.callbacks.EarlyStopping(monitor='val_loss', patience=3)\n",
    "\n",
    "history_1 = model_1.fit_generator(\n",
    "        train_generator,\n",
    "        steps_per_epoch= (train_generator.samples)/train_generator.batch_size,\n",
    "        epochs=20,\n",
    "        validation_data = validation_generator,\n",
    "        validation_steps = (validation_generator.samples)/validation_generator.batch_size,\n",
    "        #callbacks = [callback]\n",
    ")\n",
    "\n",
    "model_1.save_weights('model_1.h5')  # always save your weights after training or during training"
   ]
  },
  {
   "cell_type": "markdown",
   "metadata": {},
   "source": [
    "## 4.b. Visualize Baseline Results"
   ]
  },
  {
   "cell_type": "code",
   "execution_count": 41,
   "metadata": {},
   "outputs": [
    {
     "data": {
      "image/png": "[encoded data removed]",
      "text/plain": [
       "<Figure size 720x504 with 1 Axes>"
      ]
     },
     "metadata": {
      "needs_background": "light"
     },
     "output_type": "display_data"
    },
    {
     "data": {
      "text/plain": [
       "<Figure size 432x288 with 0 Axes>"
      ]
     },
     "metadata": {},
     "output_type": "display_data"
    },
    {
     "data": {
      "image/png": "[encoded data removed]",
      "text/plain": [
       "<Figure size 720x504 with 1 Axes>"
      ]
     },
     "metadata": {
      "needs_background": "light"
     },
     "output_type": "display_data"
    }
   ],
   "source": [
    "def visualize_results(history):\n",
    "    # Plot the accuracy and loss curves\n",
    "    acc = history.history['acc']\n",
    "    val_acc = history.history['val_acc']\n",
    "    loss = history.history['loss']\n",
    "    val_loss = history.history['val_loss']\n",
    "    \n",
    "    epochs = range(len(acc))\n",
    " \n",
    "    plt.plot(epochs, acc, 'b', label='Training acc')\n",
    "    plt.plot(epochs, val_acc, 'r', label='Validation acc')\n",
    "    plt.title('Training and validation accuracy')\n",
    "    plt.legend()\n",
    "\n",
    "    plt.figure()\n",
    "\n",
    "    plt.plot(epochs, loss, 'b', label='Training loss')\n",
    "    plt.plot(epochs, val_loss, 'r', label='Validation loss')\n",
    "    plt.title('Training and validation loss')\n",
    "    plt.legend()\n",
    "\n",
    "    plt.show()\n",
    "\n",
    "    \n",
    "# Run the function to illustrate accuracy and loss\n",
    "visualize_results(history_1)\n"
   ]
  },
  {
   "cell_type": "markdown",
   "metadata": {},
   "source": [
    "# 5. Final Model Prepapration (Fine-tuned with VGG-Imagenet)"
   ]
  },
  {
   "cell_type": "code",
   "execution_count": 36,
   "metadata": {},
   "outputs": [
    {
     "name": "stdout",
     "output_type": "stream",
     "text": [
      "<keras.engine.input_layer.InputLayer object at 0x00000206BC5224E0> False\n",
      "<keras.layers.convolutional.Conv2D object at 0x00000206BD5AEB70> False\n",
      "<keras.layers.convolutional.Conv2D object at 0x00000206BC5226A0> False\n",
      "<keras.layers.pooling.MaxPooling2D object at 0x00000206BD8CBE10> False\n",
      "<keras.layers.convolutional.Conv2D object at 0x00000206BD8E5668> False\n",
      "<keras.layers.convolutional.Conv2D object at 0x00000206BD927518> False\n",
      "<keras.layers.pooling.MaxPooling2D object at 0x00000206BD93DE80> False\n",
      "<keras.layers.convolutional.Conv2D object at 0x00000206BD93DEF0> False\n",
      "<keras.layers.convolutional.Conv2D object at 0x00000206BD96AC50> False\n",
      "<keras.layers.convolutional.Conv2D object at 0x00000206BD98F518> False\n",
      "<keras.layers.pooling.MaxPooling2D object at 0x00000206BD9B2FD0> False\n",
      "<keras.layers.convolutional.Conv2D object at 0x00000206BD9B2940> False\n",
      "<keras.layers.convolutional.Conv2D object at 0x00000206BD9DE278> False\n",
      "<keras.layers.convolutional.Conv2D object at 0x00000206BDA00B70> False\n",
      "<keras.layers.pooling.MaxPooling2D object at 0x00000206BDA34CC0> False\n",
      "<keras.layers.convolutional.Conv2D object at 0x00000206BDA34DA0> False\n",
      "<keras.layers.convolutional.Conv2D object at 0x00000206BDA52E10> False\n",
      "<keras.layers.convolutional.Conv2D object at 0x00000206BDA80668> False\n",
      "<keras.layers.pooling.MaxPooling2D object at 0x00000206BDA9BE10> False\n"
     ]
    }
   ],
   "source": [
    "# Initialize the VGG model\n",
    "\n",
    "vgg = VGG16(\n",
    "    include_top=False, weights='imagenet', input_tensor=None, input_shape= (150,150,3),\n",
    ")\n",
    "\n",
    "# Freeze all the layers\n",
    "for layer in vgg.layers[:]:\n",
    "    layer.trainable = False\n",
    "\n",
    "# Check the trainable status of the individual layers\n",
    "for layer in vgg.layers:\n",
    "    print(layer, layer.trainable)\n",
    "    \n"
   ]
  },
  {
   "cell_type": "code",
   "execution_count": 29,
   "metadata": {},
   "outputs": [
    {
     "name": "stdout",
     "output_type": "stream",
     "text": [
      "Model: \"sequential_9\"\n",
      "_________________________________________________________________\n",
      "Layer (type)                 Output Shape              Param #   \n",
      "=================================================================\n",
      "vgg16 (Model)                (None, 4, 4, 512)         14714688  \n",
      "_________________________________________________________________\n",
      "flatten_6 (Flatten)          (None, 8192)              0         \n",
      "_________________________________________________________________\n",
      "dense_9 (Dense)              (None, 64)                524352    \n",
      "_________________________________________________________________\n",
      "dropout_5 (Dropout)          (None, 64)                0         \n",
      "_________________________________________________________________\n",
      "dense_10 (Dense)             (None, 1)                 65        \n",
      "=================================================================\n",
      "Total params: 15,239,105\n",
      "Trainable params: 524,417\n",
      "Non-trainable params: 14,714,688\n",
      "_________________________________________________________________\n"
     ]
    }
   ],
   "source": [
    "\n",
    "# Create the model\n",
    "model_2 = Sequential()\n",
    "\n",
    "# Add the vgg convolutional base model\n",
    "model_2.add(vgg)\n",
    "# for layer in vgg.layers[1:]:\n",
    "#     model.add(layer)\n",
    "\n",
    "\n",
    "# Add new layers\n",
    "model_2.add(Flatten())\n",
    "model_2.add(Dense(64, activation='relu', kernel_regularizer=l2(0.01)))\n",
    "model_2.add(Dropout(0.5))\n",
    "model_2.add(Dense(1, activation='sigmoid', kernel_regularizer=l2(0.01)))\n",
    "\n",
    "# Show a summary of the model. Check the number of trainable parameters\n",
    "model_2.summary()"
   ]
  },
  {
   "cell_type": "code",
   "execution_count": null,
   "metadata": {},
   "outputs": [],
   "source": [
    "plot_model(model_2, to_file='model_plot.png', show_shapes=True, show_layer_names=True)\n"
   ]
  },
  {
   "cell_type": "markdown",
   "metadata": {},
   "source": [
    "## 5.a. Training Final Model"
   ]
  },
  {
   "cell_type": "code",
   "execution_count": null,
   "metadata": {},
   "outputs": [],
   "source": [
    "batch_size = 16\n",
    "\n",
    "# this is the augmentation configuration we will use for training\n",
    "train_datagen = ImageDataGenerator(\n",
    "        rescale=1./255,\n",
    "        shear_range=0.2,\n",
    "        zoom_range=0.2,\n",
    "        horizontal_flip=True)\n",
    "\n",
    "# this is the augmentation configuration we will use for testing:\n",
    "# only rescaling\n",
    "test_datagen = ImageDataGenerator(rescale=1./255)\n",
    "\n",
    "# this is a generator that will read pictures found in\n",
    "# subfolers of 'data/train', and indefinitely generate\n",
    "# batches of augmented image data\n",
    "train_generator = train_datagen.flow_from_directory(\n",
    "        'train_data',  # this is the target directory\n",
    "        target_size=(224, 224),  # all images will be resized to 150x150\n",
    "        batch_size=batch_size,\n",
    "        class_mode='binary')  # since we use binary_crossentropy loss, we need binary labels\n",
    "\n",
    "# this is a similar generator, for validation data\n",
    "validation_generator = test_datagen.flow_from_directory(\n",
    "        'val_data',\n",
    "        target_size=(224,224),\n",
    "        batch_size=batch_size,\n",
    "        class_mode='binary')"
   ]
  },
  {
   "cell_type": "code",
   "execution_count": null,
   "metadata": {},
   "outputs": [],
   "source": [
    "# Configure the model for training\n",
    "model_2.compile(loss='binary_crossentropy',\n",
    "              optimizer='rmsprop',\n",
    "              metrics=['accuracy'])\n",
    "\n",
    "# Train the model\n",
    "history_2 = model_2.fit(\n",
    "      train_generator,\n",
    "      steps_per_epoch=\n",
    "         (train_generator.samples/100)/train_generator.batch_size,\n",
    "      epochs=50,\n",
    "      validation_data=validation_generator, \n",
    "      validation_steps=\n",
    "         (validation_generator.samples/100)/validation_generator.batch_size,\n",
    "      verbose=1)"
   ]
  },
  {
   "cell_type": "markdown",
   "metadata": {},
   "source": [
    "## 5.b. Visualize Final Results"
   ]
  },
  {
   "cell_type": "code",
   "execution_count": 40,
   "metadata": {},
   "outputs": [
    {
     "data": {
      "image/png": "[encoded data removed]",
      "text/plain": [
       "<Figure size 720x504 with 1 Axes>"
      ]
     },
     "metadata": {
      "needs_background": "light"
     },
     "output_type": "display_data"
    },
    {
     "data": {
      "text/plain": [
       "<Figure size 432x288 with 0 Axes>"
      ]
     },
     "metadata": {},
     "output_type": "display_data"
    },
    {
     "data": {
      "image/png": "[encoded data removed]",
      "text/plain": [
       "<Figure size 720x504 with 1 Axes>"
      ]
     },
     "metadata": {
      "needs_background": "light"
     },
     "output_type": "display_data"
    }
   ],
   "source": [
    "# Utility function for plotting of the model results\n",
    "def visualize_results(history):\n",
    "    # Plot the accuracy and loss curves\n",
    "    acc = history.history['acc']\n",
    "    val_acc = history.history['val_acc']\n",
    "    loss = history.history['loss']\n",
    "    val_loss = history.history['val_loss']\n",
    "\n",
    "    epochs = range(len(acc))\n",
    "\n",
    "    plt.plot(epochs, acc, 'b', label='Training acc')\n",
    "    plt.plot(epochs, val_acc, 'r', label='Validation acc')\n",
    "    plt.title('Training and validation accuracy')\n",
    "    plt.legend()\n",
    "\n",
    "    plt.figure()\n",
    "\n",
    "    plt.plot(epochs, loss, 'b', label='Training loss')\n",
    "    plt.plot(epochs, val_loss, 'r', label='Validation loss')\n",
    "    plt.title('Training and validation loss')\n",
    "    plt.legend()\n",
    "\n",
    "    plt.show()\n",
    "\n",
    "\n",
    "# Run the function to illustrate accuracy and loss\n",
    "visualize_results(history_2)"
   ]
  },
  {
   "cell_type": "markdown",
   "metadata": {},
   "source": [
    "# AND THIS BRINGS US TO THE END !!"
   ]
  }
 ],
 "metadata": {
  "kernelspec": {
   "display_name": "Python 3",
   "language": "python",
   "name": "python3"
  },
  "language_info": {
   "codemirror_mode": {
    "name": "ipython",
    "version": 3
   },
   "file_extension": ".py",
   "mimetype": "text/x-python",
   "name": "python",
   "nbconvert_exporter": "python",
   "pygments_lexer": "ipython3",
   "version": "3.7.3"
  }
 },
 "nbformat": 4,
 "nbformat_minor": 2
}
